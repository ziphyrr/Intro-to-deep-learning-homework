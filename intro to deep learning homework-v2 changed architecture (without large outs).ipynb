{
 "cells": [
  {
   "cell_type": "markdown",
   "id": "5988e15a",
   "metadata": {},
   "source": [
    "# Imports"
   ]
  },
  {
   "cell_type": "code",
   "execution_count": 1,
   "id": "0133cf17",
   "metadata": {},
   "outputs": [],
   "source": [
    "import torch\n",
    "import string\n",
    "from tqdm.notebook import tqdm\n",
    "\n",
    "import torchmetrics\n",
    "\n",
    "import os\n",
    "import torchvision.utils\n",
    "import pandas as pd\n",
    "from torchvision.io import read_image\n",
    "import re\n",
    "import glob\n",
    "from torch.utils.data import Dataset, DataLoader\n",
    "\n",
    "import torchvision.transforms\n",
    "import matplotlib.pyplot as plt\n",
    "import numpy as np"
   ]
  },
  {
   "cell_type": "markdown",
   "id": "af6c1365",
   "metadata": {},
   "source": [
    "# Loading data"
   ]
  },
  {
   "cell_type": "markdown",
   "id": "d7f8ae35",
   "metadata": {},
   "source": [
    "В датасете помимо png файлов было 30 jpg файлов, которые я решил убрать для упрощения"
   ]
  },
  {
   "cell_type": "code",
   "execution_count": 2,
   "id": "f2b74f71",
   "metadata": {},
   "outputs": [],
   "source": [
    "class CustomImageDataset(Dataset):\n",
    "    def __init__(self, img_dir, transform=None, target_transform=None):\n",
    "        self.img_dir = img_dir\n",
    "        #img_dir = ./samples/\n",
    "        self.img_paths = glob.glob(img_dir + \"*.png\") # we will ignore 30 jpeg files for now\n",
    "        self.transform = transform\n",
    "        self.target_transform = target_transform\n",
    "\n",
    "    def __len__(self):\n",
    "        return len(self.img_paths)\n",
    "\n",
    "    def __getitem__(self, idx):\n",
    "        img_path = self.img_paths[idx]\n",
    "        label = re.split(r'[./]', img_path)[-2]  # ['', '', 'samples', 'p5g5m', 'png'], so [-2] returns label \n",
    "        \n",
    "        image = read_image(img_path, mode = torchvision.io.ImageReadMode.RGB)\n",
    "\n",
    "        if self.transform:\n",
    "            image = self.transform(image).float()/255 # automatic convertion to float in the end\n",
    "\n",
    "        if self.target_transform:\n",
    "            label = self.target_transform(label)\n",
    "        return image, label"
   ]
  },
  {
   "cell_type": "code",
   "execution_count": 3,
   "id": "8bf5a88c",
   "metadata": {},
   "outputs": [],
   "source": [
    "CAPTCHA_SIZE = 5\n",
    "img_dir = './samples/'\n",
    "transform = torchvision.transforms.Compose([\n",
    "    #torchvision.transforms.Grayscale(num_output_channels=1)\n",
    "    #, torchvision.transforms.Normalize(train_mean, train_std)\n",
    "])\n",
    "\n",
    "dataset = CustomImageDataset('./samples/', transform=transform)"
   ]
  },
  {
   "cell_type": "markdown",
   "id": "4a68a101",
   "metadata": {},
   "source": [
    "Проверим, что все считывается нормально (лейбл считывается корректно и сама картинка 50х200 с тремя каналами)"
   ]
  },
  {
   "cell_type": "code",
   "execution_count": 4,
   "id": "f9c63466",
   "metadata": {},
   "outputs": [
    {
     "name": "stdout",
     "output_type": "stream",
     "text": [
      "tensor([[[0.7529, 0.7529, 0.7529,  ..., 0.9843, 0.9843, 0.9843],\n",
      "         [0.7529, 0.7529, 0.7529,  ..., 0.9843, 0.9843, 0.9843],\n",
      "         [0.7529, 0.7529, 0.7529,  ..., 0.9843, 0.9843, 0.9843],\n",
      "         ...,\n",
      "         [0.7647, 0.7647, 0.7647,  ..., 0.9961, 0.9961, 0.9961],\n",
      "         [0.7647, 0.7647, 0.7647,  ..., 0.9961, 0.9961, 0.9961],\n",
      "         [0.7647, 0.7647, 0.7647,  ..., 0.9961, 0.9961, 0.9961]],\n",
      "\n",
      "        [[0.7529, 0.7529, 0.7529,  ..., 0.9843, 0.9843, 0.9843],\n",
      "         [0.7529, 0.7529, 0.7529,  ..., 0.9843, 0.9843, 0.9843],\n",
      "         [0.7529, 0.7529, 0.7529,  ..., 0.9843, 0.9843, 0.9843],\n",
      "         ...,\n",
      "         [0.7647, 0.7647, 0.7647,  ..., 0.9961, 0.9961, 0.9961],\n",
      "         [0.7647, 0.7647, 0.7647,  ..., 0.9961, 0.9961, 0.9961],\n",
      "         [0.7647, 0.7647, 0.7647,  ..., 0.9961, 0.9961, 0.9961]],\n",
      "\n",
      "        [[0.7529, 0.7529, 0.7529,  ..., 0.9843, 0.9843, 0.9843],\n",
      "         [0.7529, 0.7529, 0.7529,  ..., 0.9843, 0.9843, 0.9843],\n",
      "         [0.7529, 0.7529, 0.7529,  ..., 0.9843, 0.9843, 0.9843],\n",
      "         ...,\n",
      "         [0.7647, 0.7647, 0.7647,  ..., 0.9961, 0.9961, 0.9961],\n",
      "         [0.7647, 0.7647, 0.7647,  ..., 0.9961, 0.9961, 0.9961],\n",
      "         [0.7647, 0.7647, 0.7647,  ..., 0.9961, 0.9961, 0.9961]]])\n",
      "p5g5m\n",
      "torch.Size([3, 50, 200])\n"
     ]
    }
   ],
   "source": [
    "print(dataset[0][0]) # tensor with type float\n",
    "print(dataset[0][1]) # label\n",
    "print(dataset[0][0].shape) #tensor shape"
   ]
  },
  {
   "cell_type": "markdown",
   "id": "03c89a27",
   "metadata": {},
   "source": [
    "Размер датасета:"
   ]
  },
  {
   "cell_type": "code",
   "execution_count": 5,
   "id": "efa8cddd",
   "metadata": {},
   "outputs": [
    {
     "data": {
      "text/plain": [
       "1040"
      ]
     },
     "execution_count": 5,
     "metadata": {},
     "output_type": "execute_result"
    }
   ],
   "source": [
    "len(dataset)"
   ]
  },
  {
   "cell_type": "markdown",
   "id": "0194c59a",
   "metadata": {},
   "source": [
    "Посмотрим на пример картинки:"
   ]
  },
  {
   "cell_type": "code",
   "execution_count": 6,
   "id": "699364f7",
   "metadata": {},
   "outputs": [],
   "source": [
    "dataloader = torch.utils.data.DataLoader(dataset, batch_size=1, shuffle=False)"
   ]
  },
  {
   "cell_type": "code",
   "execution_count": 7,
   "id": "6a3a8ad8",
   "metadata": {},
   "outputs": [
    {
     "data": {
      "image/png": "[encoded data removed]",
      "text/plain": [
       "<Figure size 432x288 with 1 Axes>"
      ]
     },
     "metadata": {
      "needs_background": "light"
     },
     "output_type": "display_data"
    },
    {
     "name": "stdout",
     "output_type": "stream",
     "text": [
      "('p5g5m',)\n"
     ]
    }
   ],
   "source": [
    "def imshow(img):\n",
    "    npimg = img.numpy()\n",
    "    \n",
    "    plt.imshow(np.transpose(npimg, (1, 2, 0)))\n",
    "    plt.show()\n",
    "\n",
    "\n",
    "dataiter = iter(dataloader)\n",
    "images, labels = dataiter.next()\n",
    "\n",
    "imshow(torchvision.utils.make_grid(images))\n",
    "\n",
    "print(labels)"
   ]
  },
  {
   "cell_type": "markdown",
   "id": "4c07cbb9",
   "metadata": {},
   "source": [
    "Разделим выборку на трейн и тест в отношении 1 к 4"
   ]
  },
  {
   "cell_type": "code",
   "execution_count": 8,
   "id": "ac29a9ee",
   "metadata": {},
   "outputs": [],
   "source": [
    "train_size = int(0.8 * len(dataset))\n",
    "test_size = len(dataset) - train_size\n",
    "\n",
    "train_dataset, test_dataset = torch.utils.data.random_split(dataset, [train_size, test_size])"
   ]
  },
  {
   "cell_type": "code",
   "execution_count": 9,
   "id": "cef7c0f6",
   "metadata": {},
   "outputs": [
    {
     "name": "stdout",
     "output_type": "stream",
     "text": [
      "len(train_dataset) = 832\n",
      "len(test_dataset) = 208\n"
     ]
    }
   ],
   "source": [
    "print(f'{len(train_dataset) = }\\n{len(test_dataset) = }')"
   ]
  },
  {
   "cell_type": "markdown",
   "id": "2c37f692",
   "metadata": {},
   "source": [
    "## Dataloaders"
   ]
  },
  {
   "cell_type": "code",
   "execution_count": 10,
   "id": "a0a51b50",
   "metadata": {},
   "outputs": [],
   "source": [
    "batch_size = 26\n",
    "\n",
    "trainloader = torch.utils.data.DataLoader(train_dataset, batch_size=batch_size,\n",
    "                                          shuffle=True)\n",
    "\n",
    "testloader = torch.utils.data.DataLoader(test_dataset, batch_size=batch_size,\n",
    "                                          shuffle=True)"
   ]
  },
  {
   "cell_type": "markdown",
   "id": "f19dcccb",
   "metadata": {},
   "source": [
    "Попробуем считать несколько изображений сразу"
   ]
  },
  {
   "cell_type": "code",
   "execution_count": 11,
   "id": "e7c13183",
   "metadata": {},
   "outputs": [
    {
     "data": {
      "image/png": "[encoded data removed]",
      "text/plain": [
       "<Figure size 432x288 with 1 Axes>"
      ]
     },
     "metadata": {
      "needs_background": "light"
     },
     "output_type": "display_data"
    },
    {
     "name": "stdout",
     "output_type": "stream",
     "text": [
      "('2nx38', '34b84', 'nfcb5', 'g2fnw', 'd3ycn', '2g7nm', '573bn', 'c4mcm', 'd7nn3', '3n7mx', 'yd755', 'gnbde', '66wp5', 'pwmbn', 'yew6p', 'cfn53', 'gnf85', 'pgm2e', 'gc83b', 'm2nf4', 'd666m', 'px2xp', 'm23bp', 'x4pnp', 'd4ppy', '44ype')\n"
     ]
    }
   ],
   "source": [
    "trainiter = iter(trainloader)\n",
    "images, labels = trainiter.next()\n",
    "\n",
    "imshow(torchvision.utils.make_grid(images))\n",
    "\n",
    "print(labels)"
   ]
  },
  {
   "cell_type": "markdown",
   "id": "367e9fe4",
   "metadata": {},
   "source": [
    "## Symbols"
   ]
  },
  {
   "cell_type": "markdown",
   "id": "cf5a1de4",
   "metadata": {},
   "source": [
    "Будем использовать только те символы, что есть в датасете"
   ]
  },
  {
   "cell_type": "code",
   "execution_count": 13,
   "id": "18c45b9f",
   "metadata": {},
   "outputs": [
    {
     "data": {
      "text/plain": [
       "['e',\n",
       " 'g',\n",
       " 'x',\n",
       " 'n',\n",
       " 'w',\n",
       " 'y',\n",
       " '7',\n",
       " 'b',\n",
       " '5',\n",
       " '2',\n",
       " '4',\n",
       " '3',\n",
       " 'p',\n",
       " '8',\n",
       " 'c',\n",
       " 'd',\n",
       " '6',\n",
       " 'f',\n",
       " 'm']"
      ]
     },
     "execution_count": 13,
     "metadata": {},
     "output_type": "execute_result"
    }
   ],
   "source": [
    "symbols = set()\n",
    "for i in range(len(dataset)):\n",
    "    symbols = symbols.union(set(dataset[i][1]))\n",
    "list(symbols)"
   ]
  },
  {
   "cell_type": "code",
   "execution_count": 14,
   "id": "d5852a6b",
   "metadata": {},
   "outputs": [
    {
     "name": "stdout",
     "output_type": "stream",
     "text": [
      "19\n",
      "egxnwy7b5243p8cd6fm\n"
     ]
    }
   ],
   "source": [
    "chars = ''\n",
    "for char in list(symbols):\n",
    "    chars += char\n",
    "n_chars = len(chars) # number of symbols\n",
    "print(n_chars)\n",
    "print(chars)"
   ]
  },
  {
   "cell_type": "code",
   "execution_count": 22,
   "id": "99f2f55d",
   "metadata": {},
   "outputs": [],
   "source": [
    "idx_to_char = {idx + 1: token for idx, token in enumerate(chars)}\n",
    "\n",
    "char_to_idx = {token: idx + 1 for idx, token in enumerate(chars)}"
   ]
  },
  {
   "cell_type": "markdown",
   "id": "a7351fb2",
   "metadata": {},
   "source": [
    "Добавим нейтральный символ"
   ]
  },
  {
   "cell_type": "code",
   "execution_count": 23,
   "id": "2f1e9c83",
   "metadata": {},
   "outputs": [],
   "source": [
    "idx_to_char[0] = '-'\n",
    "char_to_idx['-'] = 0"
   ]
  },
  {
   "cell_type": "markdown",
   "id": "2127dfb9",
   "metadata": {},
   "source": [
    "# Training function and model definition"
   ]
  },
  {
   "cell_type": "code",
   "execution_count": 53,
   "id": "92e4cdcb",
   "metadata": {},
   "outputs": [],
   "source": [
    "def train_model(net, criterion, optimizer, trainloader, num_epochs=5):\n",
    "    cer_test_results = []\n",
    "    for epoch in range(num_epochs):\n",
    "        running_loss = 0.0\n",
    "        \n",
    "        net.train()\n",
    "        for i, data in tqdm(enumerate(trainloader, 0)):\n",
    "            inputs, labels = data\n",
    "            target = torch.Tensor([[char_to_idx[char] for char in label] for label in labels])\n",
    "            \n",
    "            optimizer.zero_grad()\n",
    "            \n",
    "            _, loss = net(inputs, target)\n",
    "            loss.backward()\n",
    "            \n",
    "            optimizer.step()\n",
    "            \n",
    "            running_loss += loss.item()\n",
    "        else:    \n",
    "            print('Epoch {0}/{1}, iteration {2}, loss: {3:.3f}'.format(epoch + 1, num_epochs, i + 1, running_loss / len(train_dataset)))\n",
    "            running_loss = 0.0\n",
    "        print()\n",
    "        \n",
    "        net.eval()\n",
    "        \n",
    "        with torch.no_grad():\n",
    "            fin_loss = 0\n",
    "            fin_preds = []\n",
    "            all_labels = []\n",
    "            for i, data in tqdm(enumerate(testloader, 0)):\n",
    "                inputs, labels = data    \n",
    "                all_labels += labels\n",
    "                \n",
    "                target = torch.Tensor([[char_to_idx[char] for char in label] for label in labels])\n",
    "                batch_preds, loss = net(inputs, target)       \n",
    "\n",
    "                fin_preds.append(batch_preds)\n",
    "                fin_loss += loss.item()\n",
    "\n",
    "            print(f\"test loss: for {epoch = } is {fin_loss / len(test_dataset)}\")\n",
    "            print('One prediction')\n",
    "            print('\\t batch_pred shape: ', batch_preds.shape)\n",
    "            print('\\t prediction for 0th word:', [idx_to_char[torch.argmax(sym[0]).item()] for sym in batch_preds])\n",
    "            print('\\t distribution for 0th word:') \n",
    "            for sym in batch_preds:\n",
    "                print('\\t\\t', sym[0])\n",
    "            print('\\tReal_label for 0th: ', labels[0])\n",
    "            \n",
    "\n",
    "            print('\\t prediction for 1st word:', [idx_to_char[torch.argmax(sym[1]).item()] for sym in batch_preds])\n",
    "            print('\\t distribution for 1st word:') \n",
    "            for sym in batch_preds:\n",
    "                print('\\t\\t', sym[1])\n",
    "            print('\\tReal_label for 1st: ', labels[1])\n",
    "        \n",
    "    print('Finished Training')\n",
    "    \n",
    "    return net, fin_preds, all_labels\n"
   ]
  },
  {
   "cell_type": "code",
   "execution_count": 25,
   "id": "d8fc5794",
   "metadata": {},
   "outputs": [],
   "source": [
    "import torch.nn as nn\n",
    "import torch.nn.functional as F\n",
    "\n",
    "class Net(nn.Module):\n",
    "    def __init__(self):\n",
    "        super(Net, self).__init__()\n",
    "        \n",
    "        self.conv_1 = nn.Conv2d(3, 32, kernel_size=(3, 5), padding='same')\n",
    "        self.pool_1 = nn.MaxPool2d(kernel_size=(2, 2))\n",
    "        self.conv_2 = nn.Conv2d(32, 32, kernel_size=(3, 5), padding='same')\n",
    "        self.pool_2 = nn.MaxPool2d(kernel_size=(2, 2))\n",
    "        self.linear_1 = nn.Linear(768 // 2, 32)\n",
    "        self.drop_1 = nn.Dropout(0.2)\n",
    "        self.lstm = nn.GRU(32, 32, bidirectional=True, num_layers=2, dropout=0.25, batch_first=True)\n",
    "        self.output = nn.Linear(64, n_chars + 1)    \n",
    "        \n",
    "\n",
    "    def forward(self, x, targets = None):\n",
    "        \n",
    "        bs = x.size(0)\n",
    "        #print(x.shape)\n",
    "        x = F.relu(self.conv_1(x))\n",
    "        #print(x.shape)\n",
    "        x = self.pool_1(x)\n",
    "        #print(x.shape)\n",
    "        x = F.relu(self.conv_2(x))\n",
    "        #print(x.shape)\n",
    "        x = self.pool_2(x)\n",
    "        #print(x.shape)\n",
    "        x = x.permute(0, 3, 1, 2)\n",
    "        #print(x.shape)\n",
    "        x = x.view(bs, x.size(1), -1) # x.size(0) instead of batch size\n",
    "        #print(x.shape)\n",
    "        x = F.relu(self.linear_1(x))\n",
    "        #print(x.shape)\n",
    "        x = self.drop_1(x)\n",
    "        #print(x.shape)\n",
    "        x, _ = self.lstm(x)\n",
    "        #print(x.shape)\n",
    "        x = self.output(x)\n",
    "        #print(x.shape)\n",
    "        x = x.permute(1, 0, 2)\n",
    "        #print(x.shape)\n",
    "        #print('===========')\n",
    "        if targets is not None:\n",
    "            log_probs = F.log_softmax(x, 2)\n",
    "            input_lengths = torch.full(\n",
    "                size=(bs,), fill_value=log_probs.size(0), dtype=torch.int32\n",
    "            )\n",
    "            #print(type(targets))\n",
    "            target_lengths = torch.full(\n",
    "                size=(bs,), fill_value=targets.size(1), dtype=torch.int32\n",
    "            )\n",
    "            loss = nn.CTCLoss(blank=0)(\n",
    "                log_probs, targets, input_lengths, target_lengths\n",
    "            )\n",
    "            return x, loss\n",
    "\n",
    "        return x, None\n",
    "\n",
    "\n",
    "net = Net()"
   ]
  },
  {
   "cell_type": "markdown",
   "id": "8205f22b",
   "metadata": {},
   "source": [
    "# Training the model"
   ]
  },
  {
   "cell_type": "code",
   "execution_count": 26,
   "id": "cabade5c",
   "metadata": {},
   "outputs": [],
   "source": [
    "optimizer = torch.optim.Adam(net.parameters(), lr=0.0005)"
   ]
  },
  {
   "cell_type": "code",
   "execution_count": 27,
   "id": "0ade0972",
   "metadata": {},
   "outputs": [
    {
     "data": {
      "text/plain": [
       "Net(\n",
       "  (conv_1): Conv2d(3, 32, kernel_size=(3, 5), stride=(1, 1), padding=same)\n",
       "  (pool_1): MaxPool2d(kernel_size=(2, 2), stride=(2, 2), padding=0, dilation=1, ceil_mode=False)\n",
       "  (conv_2): Conv2d(32, 32, kernel_size=(3, 5), stride=(1, 1), padding=same)\n",
       "  (pool_2): MaxPool2d(kernel_size=(2, 2), stride=(2, 2), padding=0, dilation=1, ceil_mode=False)\n",
       "  (linear_1): Linear(in_features=384, out_features=32, bias=True)\n",
       "  (drop_1): Dropout(p=0.2, inplace=False)\n",
       "  (lstm): GRU(32, 32, num_layers=2, batch_first=True, dropout=0.25, bidirectional=True)\n",
       "  (output): Linear(in_features=64, out_features=20, bias=True)\n",
       ")"
      ]
     },
     "execution_count": 27,
     "metadata": {},
     "output_type": "execute_result"
    }
   ],
   "source": [
    "net"
   ]
  },
  {
   "cell_type": "code",
   "execution_count": null,
   "id": "4930702b",
   "metadata": {},
   "outputs": [],
   "source": [
    "net = train_model(net, criterion, optimizer, trainloader, num_epochs=50)"
   ]
  },
  {
   "cell_type": "code",
   "execution_count": null,
   "id": "48b526c7",
   "metadata": {},
   "outputs": [],
   "source": [
    "net = train_model(net, criterion, optimizer, trainloader, num_epochs=50)"
   ]
  },
  {
   "cell_type": "code",
   "execution_count": null,
   "id": "af88a7e1",
   "metadata": {},
   "outputs": [],
   "source": [
    "net = train_model(net, criterion, optimizer, trainloader, num_epochs=50)"
   ]
  },
  {
   "cell_type": "markdown",
   "id": "2fd1f223",
   "metadata": {},
   "source": [
    "# Decoding the results"
   ]
  },
  {
   "cell_type": "markdown",
   "id": "307d1f88",
   "metadata": {},
   "source": [
    "Запустим одну итерацию чтобы получить результаты"
   ]
  },
  {
   "cell_type": "code",
   "execution_count": null,
   "id": "d7b2d1d6",
   "metadata": {},
   "outputs": [],
   "source": [
    "net, test_preds, test_labels = train_model(net, criterion, optimizer, trainloader, num_epochs=1)"
   ]
  },
  {
   "cell_type": "markdown",
   "id": "45226920",
   "metadata": {},
   "source": [
    "В results запишем подряд полученные последовательности"
   ]
  },
  {
   "cell_type": "code",
   "execution_count": 57,
   "id": "d7dbd0e7",
   "metadata": {},
   "outputs": [
    {
     "data": {
      "text/plain": [
       "['-',\n",
       " '-',\n",
       " '-',\n",
       " '-',\n",
       " '-',\n",
       " '-',\n",
       " '-',\n",
       " '-',\n",
       " '-',\n",
       " 'f',\n",
       " '-',\n",
       " '-',\n",
       " '-',\n",
       " '-',\n",
       " '7',\n",
       " '-',\n",
       " '-',\n",
       " '-',\n",
       " 'c',\n",
       " '-',\n",
       " '-',\n",
       " '-',\n",
       " '-',\n",
       " 'e',\n",
       " '-',\n",
       " '-',\n",
       " '-',\n",
       " '-',\n",
       " '-',\n",
       " 'y',\n",
       " '-',\n",
       " '-',\n",
       " '-',\n",
       " '-',\n",
       " '-',\n",
       " '-',\n",
       " '-',\n",
       " '-',\n",
       " '-',\n",
       " '-',\n",
       " '-',\n",
       " '-',\n",
       " '-',\n",
       " '-',\n",
       " '-',\n",
       " '-',\n",
       " '-',\n",
       " '-',\n",
       " '-',\n",
       " '-']"
      ]
     },
     "execution_count": 57,
     "metadata": {},
     "output_type": "execute_result"
    }
   ],
   "source": [
    "results = []\n",
    "for batch_pred in test_preds:\n",
    "    for i in range(batch_size):\n",
    "        results.append([idx_to_char[torch.argmax(sym[i]).item()] for sym in batch_pred])\n",
    "results[0]"
   ]
  },
  {
   "cell_type": "markdown",
   "id": "41d46f5e",
   "metadata": {},
   "source": [
    "Напишем функцию перевода данной последовательности в лейбл"
   ]
  },
  {
   "cell_type": "code",
   "execution_count": 60,
   "id": "62f30ead",
   "metadata": {},
   "outputs": [
    {
     "data": {
      "text/plain": [
       "['f7cey',\n",
       " 'cwdnx',\n",
       " '6n443',\n",
       " 'd2nbn',\n",
       " '76y6f',\n",
       " 'w8f36',\n",
       " '2bg48',\n",
       " 'xe6eb',\n",
       " 'pym7p',\n",
       " 'dc436',\n",
       " 'de45x',\n",
       " '46mbm',\n",
       " '474ff',\n",
       " '42xpy',\n",
       " '785n4',\n",
       " 'dfnx4',\n",
       " '8npd5',\n",
       " 'd66cn',\n",
       " '8eggg',\n",
       " 'm8gmx',\n",
       " '5ng6e',\n",
       " 'b5dn4',\n",
       " '25p2m',\n",
       " '8nn73',\n",
       " 'gecmf',\n",
       " 'mfc35',\n",
       " '87d4c',\n",
       " '478nx',\n",
       " 'f8f8g',\n",
       " '2cgyx',\n",
       " 'w4x2m',\n",
       " '3ebnn',\n",
       " 'bw44w',\n",
       " 'ncw4g',\n",
       " 'exycn',\n",
       " '72m6f',\n",
       " 'bdbb3',\n",
       " '3bnyf',\n",
       " '68wfd',\n",
       " 'c6we6',\n",
       " 'c753e',\n",
       " '2mg87',\n",
       " '243mm',\n",
       " 'mc8w2',\n",
       " '8fexn',\n",
       " 'ncfgb',\n",
       " 'mye68',\n",
       " '4ycex',\n",
       " 'g3dy6',\n",
       " 'gny6b',\n",
       " '2356g',\n",
       " '646x8',\n",
       " 'fdpgd',\n",
       " '56c34',\n",
       " 'nfndw',\n",
       " '6gnm3',\n",
       " 'x775w',\n",
       " 'enn7n',\n",
       " 'pwn5e',\n",
       " '658xe',\n",
       " 'cb8cf',\n",
       " 'ne325',\n",
       " 'ypw3d',\n",
       " 'dbex3',\n",
       " '63824',\n",
       " 'nm248',\n",
       " 'n3m6x',\n",
       " 'dw6mn',\n",
       " '2npg6',\n",
       " 'x277e',\n",
       " 'cnex4',\n",
       " '8n2pg',\n",
       " '5bb66',\n",
       " 'n3ffn',\n",
       " '8xef7',\n",
       " '25257',\n",
       " 'g7wxw',\n",
       " '33ng4',\n",
       " 'ybfx6',\n",
       " 'cfc56',\n",
       " 'wpmp',\n",
       " 'gw468',\n",
       " 'ycmcw',\n",
       " '37d52',\n",
       " '2wx73',\n",
       " 'defyx',\n",
       " 'deep5',\n",
       " 'e3ndn',\n",
       " '7bwm2',\n",
       " 'f5cm2',\n",
       " 'w4nfx',\n",
       " '537nf',\n",
       " '8nbew',\n",
       " '62nb3',\n",
       " 'y2ye8',\n",
       " '7dyww',\n",
       " 'fywb8',\n",
       " '3cpwb',\n",
       " 'cpc8c',\n",
       " 'dcnp8',\n",
       " '7cdge',\n",
       " 'gm7n8',\n",
       " 'gpnxn',\n",
       " 'nd5wg',\n",
       " 'fy2nd',\n",
       " 'xnn4d',\n",
       " 'ebxbx',\n",
       " '7gnge',\n",
       " '3bd8f',\n",
       " 'mgw3n',\n",
       " '7e2y7',\n",
       " 'bmxpe',\n",
       " '2xc2n',\n",
       " 'xfg65',\n",
       " 'xnd3y',\n",
       " 'e667x',\n",
       " 'c86md',\n",
       " 'gn2d3',\n",
       " 'my84e',\n",
       " 'ny8np',\n",
       " 'fc2ff',\n",
       " '34fxm',\n",
       " '43gey',\n",
       " '5xd2e',\n",
       " 'ffnxn',\n",
       " 'd2ycw',\n",
       " 'n5x2n',\n",
       " '33n73',\n",
       " 'dw8d3',\n",
       " 'c3572',\n",
       " '6n5fd',\n",
       " 'e46pd',\n",
       " '8n4n8',\n",
       " 'fnbfw',\n",
       " 'yyn57',\n",
       " 'wnmyn',\n",
       " 'gcfgp',\n",
       " 'x3deb',\n",
       " '64b3p',\n",
       " 'y4g3b',\n",
       " 'n5wbg',\n",
       " '3ye2e',\n",
       " 'yw667',\n",
       " 'cfc2y',\n",
       " 'fc6xb',\n",
       " 'yf28d',\n",
       " 'e7x45',\n",
       " '36w25',\n",
       " '4c8n8',\n",
       " 'wye85',\n",
       " 'y4ec2',\n",
       " 'xp24p',\n",
       " '38n57',\n",
       " '7fde7',\n",
       " '8cccc',\n",
       " 'be6p',\n",
       " 'bwmee',\n",
       " 'n7g4f',\n",
       " '7fmcy',\n",
       " '8c2wy',\n",
       " '7g3nf',\n",
       " 'p26n',\n",
       " '5x7x5',\n",
       " '3d7bd',\n",
       " 'ygfwe',\n",
       " 'nn6mg',\n",
       " '5n728',\n",
       " 'd8dce',\n",
       " '6ege',\n",
       " '78eec',\n",
       " 'm67b3',\n",
       " 'x4f7g',\n",
       " 'bxxfc',\n",
       " 'y866y',\n",
       " 'p2ym2',\n",
       " '5p8fm',\n",
       " '3pe4g',\n",
       " 'mddgb',\n",
       " 'wb3ed',\n",
       " '7634y',\n",
       " 'nybcx',\n",
       " 'm3588',\n",
       " 'xe8xm',\n",
       " 'cd4eg',\n",
       " 'ndme7',\n",
       " '35w53',\n",
       " 'pme86',\n",
       " 'ddmyg',\n",
       " 'nnn57',\n",
       " 'x5f54',\n",
       " 'yf347',\n",
       " 'en32e',\n",
       " '7mgmf',\n",
       " '7wyp4',\n",
       " 'ef4mn',\n",
       " 'nfd8g',\n",
       " 'd236n',\n",
       " 'pdw38',\n",
       " '7gce6',\n",
       " 'mxyxw',\n",
       " 'd22n7',\n",
       " '2yggg',\n",
       " '2fxgd',\n",
       " 'nb267',\n",
       " 'yx2d4',\n",
       " 'px8n8',\n",
       " '6f857',\n",
       " 'dmxp8']"
      ]
     },
     "execution_count": 60,
     "metadata": {},
     "output_type": "execute_result"
    }
   ],
   "source": [
    "def seq_to_label(ch_list):\n",
    "    curr_sym = ch_list[0]\n",
    "    res = ''\n",
    "    for i in range(len(ch_list)):\n",
    "        curr_sym = ch_list[i]\n",
    "        if ch_list[i] != '-' and (i == len(ch_list) - 1 or ch_list[i + 1] == '-'):\n",
    "            res += ch_list[i]\n",
    "        if ch_list[i] == '-':\n",
    "            continue\n",
    "    return res\n",
    "            \n",
    "pred_labels = [seq_to_label(res_elem) for res_elem in results]\n",
    "pred_labels"
   ]
  },
  {
   "cell_type": "markdown",
   "id": "f8f2878e",
   "metadata": {},
   "source": [
    "Посчитаем CER"
   ]
  },
  {
   "cell_type": "code",
   "execution_count": 64,
   "id": "18c3516e",
   "metadata": {},
   "outputs": [
    {
     "data": {
      "text/plain": [
       "0.005769230891019106"
      ]
     },
     "execution_count": 64,
     "metadata": {},
     "output_type": "execute_result"
    }
   ],
   "source": [
    "cer_test = torchmetrics.functional.char_error_rate(preds=pred_labels, target=test_labels)\n",
    "cer_test.item()"
   ]
  },
  {
   "cell_type": "markdown",
   "id": "88041c2b",
   "metadata": {},
   "source": [
    "# Описание"
   ]
  },
  {
   "cell_type": "markdown",
   "id": "4b0bfcef",
   "metadata": {},
   "source": [
    "Изначально была попытка обойтись совсем без RNN. Была идея собрать несколько сверточных слоев, а затем разделить на 5 выходов (для каждого символа капчи соответственно) и при обучении каждому подавать таргет, соответствующий позиции символа. Идея ни к чему хорошему не привела, получилось добиться CER на тесте лишь 0.8. Но надеждый были, ведь CER на тесте стабильно опускался с 0.95, хоть и делал это очень медленно. В итоге решил использовать RNN после сверточных слоев. Сначала аналогично не получалось добиться никаких результатов, выглядело так, что допущена ошибка в коде, однако после упрощения структуры и изменения параметров обучения получилось добиться хорошей точности."
   ]
  },
  {
   "cell_type": "code",
   "execution_count": 2,
   "id": "f7498015",
   "metadata": {},
   "outputs": [],
   "source": [
    "#for i in range(len(pred_labels)):\n",
    "#    print(pred_labels[i], test_labels[i], torchmetrics.functional.char_error_rate(pred_labels[i], test_labels[i]))\n",
    "          "
   ]
  },
  {
   "cell_type": "code",
   "execution_count": null,
   "id": "d00e5aea",
   "metadata": {},
   "outputs": [],
   "source": []
  }
 ],
 "metadata": {
  "kernelspec": {
   "display_name": "Python 3 (ipykernel)",
   "language": "python",
   "name": "python3"
  },
  "language_info": {
   "codemirror_mode": {
    "name": "ipython",
    "version": 3
   },
   "file_extension": ".py",
   "mimetype": "text/x-python",
   "name": "python",
   "nbconvert_exporter": "python",
   "pygments_lexer": "ipython3",
   "version": "3.9.12"
  },
  "toc": {
   "base_numbering": 1,
   "nav_menu": {},
   "number_sections": true,
   "sideBar": true,
   "skip_h1_title": false,
   "title_cell": "Table of Contents",
   "title_sidebar": "Contents",
   "toc_cell": false,
   "toc_position": {},
   "toc_section_display": true,
   "toc_window_display": false
  }
 },
 "nbformat": 4,
 "nbformat_minor": 5
}
